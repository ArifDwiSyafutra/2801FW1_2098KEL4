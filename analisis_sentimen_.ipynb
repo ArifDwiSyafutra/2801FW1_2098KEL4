{
  "nbformat": 4,
  "nbformat_minor": 0,
  "metadata": {
    "colab": {
      "provenance": [],
      "authorship_tag": "ABX9TyNaj9hTLIERPaRHejhUwtYx",
      "include_colab_link": true
    },
    "kernelspec": {
      "name": "python3",
      "display_name": "Python 3"
    },
    "language_info": {
      "name": "python"
    }
  },
  "cells": [
    {
      "cell_type": "markdown",
      "metadata": {
        "id": "view-in-github",
        "colab_type": "text"
      },
      "source": [
        "<a href=\"https://colab.research.google.com/github/ArifDwiSyafutra/2801FW1_2098KEL4/blob/master/analisis_sentimen_.ipynb\" target=\"_parent\"><img src=\"https://colab.research.google.com/assets/colab-badge.svg\" alt=\"Open In Colab\"/></a>"
      ]
    },
    {
      "cell_type": "markdown",
      "source": [
        "#Natural language Processing"
      ],
      "metadata": {
        "id": "aSqinUS_Euoj"
      }
    },
    {
      "cell_type": "markdown",
      "source": [
        "# 1. Basic Text Processing\n"
      ],
      "metadata": {
        "id": "iLoz2VqbEuqm"
      }
    },
    {
      "cell_type": "markdown",
      "source": [
        "## 1.1   Pemilihan Corpus\n",
        "\n"
      ],
      "metadata": {
        "id": "MMN_O7VhFWIl"
      }
    },
    {
      "cell_type": "code",
      "source": [
        "!pip install sastrawi"
      ],
      "metadata": {
        "id": "_WwyqEEBl_xE",
        "colab": {
          "base_uri": "https://localhost:8080/"
        },
        "outputId": "e0f84cc9-a95a-4f9d-ff53-414346d93755"
      },
      "execution_count": null,
      "outputs": [
        {
          "metadata": {
            "tags": null
          },
          "name": "stdout",
          "output_type": "stream",
          "text": [
            "Looking in indexes: https://pypi.org/simple, https://us-python.pkg.dev/colab-wheels/public/simple/\n",
            "Collecting sastrawi\n",
            "  Downloading Sastrawi-1.0.1-py2.py3-none-any.whl (209 kB)\n",
            "\u001b[2K     \u001b[90m━━━━━━━━━━━━━━━━━━━━━━━━━━━━━━━━━━━━━━━\u001b[0m \u001b[32m209.7/209.7 KB\u001b[0m \u001b[31m3.6 MB/s\u001b[0m eta \u001b[36m0:00:00\u001b[0m\n",
            "\u001b[?25hInstalling collected packages: sastrawi\n",
            "Successfully installed sastrawi-1.0.1\n"
          ]
        }
      ]
    },
    {
      "cell_type": "code",
      "source": [
        "import pandas as pd\n",
        "import re\n",
        "import string\n",
        "import nltk\n",
        "from nltk.corpus import stopwords\n",
        "from nltk.stem import WordNetLemmatizer\n",
        "from Sastrawi.Stemmer.StemmerFactory import StemmerFactory\n",
        "\n",
        "nltk.download('stopwords')\n",
        "nltk.download('punkt')\n",
        "nltk.download('wordnet')"
      ],
      "metadata": {
        "colab": {
          "base_uri": "https://localhost:8080/"
        },
        "id": "jGd_VmOUjEIU",
        "outputId": "f8918109-759d-4099-968a-8fa4511c19ab"
      },
      "execution_count": null,
      "outputs": [
        {
          "output_type": "stream",
          "name": "stderr",
          "text": [
            "[nltk_data] Downloading package stopwords to /root/nltk_data...\n",
            "[nltk_data]   Package stopwords is already up-to-date!\n",
            "[nltk_data] Downloading package punkt to /root/nltk_data...\n",
            "[nltk_data]   Unzipping tokenizers/punkt.zip.\n"
          ]
        }
      ]
    },
    {
      "cell_type": "markdown",
      "source": [
        "## 1.2 Pemilihan Dataset\n"
      ],
      "metadata": {
        "id": "OkyMvdTkIiKu"
      }
    },
    {
      "cell_type": "code",
      "source": [
        "df = pd.read_csv('/content/Twitter_Emotion_Dataset.csv', nrows=2000)"
      ],
      "metadata": {
        "id": "W80RcyvkjEpu"
      },
      "execution_count": null,
      "outputs": []
    },
    {
      "cell_type": "markdown",
      "source": [
        "# 2. Preprocessing Data"
      ],
      "metadata": {
        "id": "mzwk6WEYIymg"
      }
    },
    {
      "cell_type": "markdown",
      "source": [
        "## 2.1 Puctuation"
      ],
      "metadata": {
        "id": "Rt4g9M_CI6Yi"
      }
    },
    {
      "cell_type": "markdown",
      "source": [
        "menghapus URL, angka, mengubah teks menjadi lowercase, menghapus kata 'username', dan mengganti tanda baca dengan spasi.\n"
      ],
      "metadata": {
        "id": "2bOkI0LjoIfp"
      }
    },
    {
      "cell_type": "code",
      "source": [
        "def clean_text(text):\n",
        "    # menghapus URL\n",
        "    text = re.sub(r'http\\S+', '', text)\n",
        "    \n",
        "    # menghapus angka\n",
        "    text = re.sub('\\d+', '', text)\n",
        "    \n",
        "    # mengubah teks menjadi lowercase\n",
        "    text = text.lower()\n",
        "    \n",
        "    # menghapus kata 'username'\n",
        "    text = re.sub('username', '', text)\n",
        "    \n",
        "    # mempertahankan beberapa tanda baca tertentu\n",
        "    text = re.sub('[‘’“”\"\\'`]', '', text)\n",
        "    \n",
        "    # mengganti tanda baca lainnya dengan spasi\n",
        "    text = re.sub('[^\\w\\s]', ' ', text)\n",
        "    \n",
        "    return text\n",
        "\n",
        "df['tweet'] = df['tweet'].apply(lambda x: clean_text(x))"
      ],
      "metadata": {
        "id": "ZXsry63_jICu"
      },
      "execution_count": null,
      "outputs": []
    },
    {
      "cell_type": "markdown",
      "source": [
        "## 2.2 Tokenisasi"
      ],
      "metadata": {
        "id": "5-x0DLFVKQRh"
      }
    },
    {
      "cell_type": "code",
      "source": [
        "def tokenize_text(text):\n",
        "    tokens = nltk.word_tokenize(text)\n",
        "    return tokens\n",
        "\n",
        "df['tweet'] = df['tweet'].apply(lambda x: tokenize_text(x))"
      ],
      "metadata": {
        "id": "f0kYN3GyjfgS"
      },
      "execution_count": null,
      "outputs": []
    },
    {
      "cell_type": "markdown",
      "source": [
        "## 2.3 Stopword"
      ],
      "metadata": {
        "id": "JrAZjV_4KWHZ"
      }
    },
    {
      "cell_type": "code",
      "source": [
        "def remove_stopwords(text):\n",
        "    stop_words = set(stopwords.words('indonesian'))\n",
        "    filtered_text = [word for word in text if word not in stop_words]\n",
        "    return filtered_text\n",
        "\n",
        "df['tweet'] = df['tweet'].apply(lambda x: remove_stopwords(x))\n"
      ],
      "metadata": {
        "id": "x4hSK7pUmTNa"
      },
      "execution_count": null,
      "outputs": []
    },
    {
      "cell_type": "markdown",
      "source": [
        "## 2.4 Stemming"
      ],
      "metadata": {
        "id": "cbBUPtxrKdZm"
      }
    },
    {
      "cell_type": "code",
      "source": [
        "factory = StemmerFactory()\n",
        "stemmer = factory.create_stemmer()\n",
        "\n",
        "def stem_text(text):\n",
        "    stemmed_text = [stemmer.stem(word) for word in text]\n",
        "    return stemmed_text\n",
        "\n",
        "df['tweet'] = df['tweet'].apply(lambda x: stem_text(x))\n"
      ],
      "metadata": {
        "id": "Ftut88-wmYS_"
      },
      "execution_count": null,
      "outputs": []
    },
    {
      "cell_type": "markdown",
      "source": [
        "## 2.5 Lemmatizer"
      ],
      "metadata": {
        "id": "LdX-wyu3KkWQ"
      }
    },
    {
      "cell_type": "code",
      "source": [
        "lemmatizer = WordNetLemmatizer()\n",
        "\n",
        "def lemmatize_text(text):\n",
        "    lemmatized_text = [lemmatizer.lemmatize(word) for word in text]\n",
        "    return lemmatized_text\n",
        "\n",
        "df['tweet'] = df['tweet'].apply(lambda x: lemmatize_text(x))"
      ],
      "metadata": {
        "id": "uMtw7salIWxH"
      },
      "execution_count": null,
      "outputs": []
    },
    {
      "cell_type": "markdown",
      "source": [
        "## 2.6 Normalisasi"
      ],
      "metadata": {
        "id": "3-7FB2xYKrGa"
      }
    },
    {
      "cell_type": "code",
      "source": [
        "def join_text(text):\n",
        "    joined_text = ' '.join(text)\n",
        "    return joined_text\n",
        "\n",
        "df['tweet'] = df['tweet'].apply(lambda x: join_text(x))"
      ],
      "metadata": {
        "id": "zpsqQgyUjha8"
      },
      "execution_count": null,
      "outputs": []
    },
    {
      "cell_type": "markdown",
      "source": [
        "## 2.7 Clean Dataset"
      ],
      "metadata": {
        "id": "ey9dUgfALja1"
      }
    },
    {
      "cell_type": "code",
      "source": [
        "df.to_csv('preprocessed_dataset.csv', index=False)\n",
        "df.head()"
      ],
      "metadata": {
        "colab": {
          "base_uri": "https://localhost:8080/",
          "height": 206
        },
        "id": "CkM_foa_jjbj",
        "outputId": "1eeadb33-5f37-4879-ca99-75d471700ae7"
      },
      "execution_count": null,
      "outputs": [
        {
          "output_type": "execute_result",
          "data": {
            "text/plain": [
              "   label                                              tweet\n",
              "0  anger  jln jatibarupolisi tdk bs gertak gubernur eman...\n",
              "1  anger  cewe lho kayak rasain sibuk jaga rasain sakit ...\n",
              "2  happy  kepingin gudeg mbarek bu hj amad foto google s...\n",
              "3  anger  jln jatibarubagian wilayah tn abangpengaturan ...\n",
              "4  happy  sharing alam aja kemarin jam batalin tiket sta..."
            ],
            "text/html": [
              "\n",
              "  <div id=\"df-dfafd4e3-1816-4ffb-af92-f5e3800a54e2\">\n",
              "    <div class=\"colab-df-container\">\n",
              "      <div>\n",
              "<style scoped>\n",
              "    .dataframe tbody tr th:only-of-type {\n",
              "        vertical-align: middle;\n",
              "    }\n",
              "\n",
              "    .dataframe tbody tr th {\n",
              "        vertical-align: top;\n",
              "    }\n",
              "\n",
              "    .dataframe thead th {\n",
              "        text-align: right;\n",
              "    }\n",
              "</style>\n",
              "<table border=\"1\" class=\"dataframe\">\n",
              "  <thead>\n",
              "    <tr style=\"text-align: right;\">\n",
              "      <th></th>\n",
              "      <th>label</th>\n",
              "      <th>tweet</th>\n",
              "    </tr>\n",
              "  </thead>\n",
              "  <tbody>\n",
              "    <tr>\n",
              "      <th>0</th>\n",
              "      <td>anger</td>\n",
              "      <td>jln jatibarupolisi tdk bs gertak gubernur eman...</td>\n",
              "    </tr>\n",
              "    <tr>\n",
              "      <th>1</th>\n",
              "      <td>anger</td>\n",
              "      <td>cewe lho kayak rasain sibuk jaga rasain sakit ...</td>\n",
              "    </tr>\n",
              "    <tr>\n",
              "      <th>2</th>\n",
              "      <td>happy</td>\n",
              "      <td>kepingin gudeg mbarek bu hj amad foto google s...</td>\n",
              "    </tr>\n",
              "    <tr>\n",
              "      <th>3</th>\n",
              "      <td>anger</td>\n",
              "      <td>jln jatibarubagian wilayah tn abangpengaturan ...</td>\n",
              "    </tr>\n",
              "    <tr>\n",
              "      <th>4</th>\n",
              "      <td>happy</td>\n",
              "      <td>sharing alam aja kemarin jam batalin tiket sta...</td>\n",
              "    </tr>\n",
              "  </tbody>\n",
              "</table>\n",
              "</div>\n",
              "      <button class=\"colab-df-convert\" onclick=\"convertToInteractive('df-dfafd4e3-1816-4ffb-af92-f5e3800a54e2')\"\n",
              "              title=\"Convert this dataframe to an interactive table.\"\n",
              "              style=\"display:none;\">\n",
              "        \n",
              "  <svg xmlns=\"http://www.w3.org/2000/svg\" height=\"24px\"viewBox=\"0 0 24 24\"\n",
              "       width=\"24px\">\n",
              "    <path d=\"M0 0h24v24H0V0z\" fill=\"none\"/>\n",
              "    <path d=\"M18.56 5.44l.94 2.06.94-2.06 2.06-.94-2.06-.94-.94-2.06-.94 2.06-2.06.94zm-11 1L8.5 8.5l.94-2.06 2.06-.94-2.06-.94L8.5 2.5l-.94 2.06-2.06.94zm10 10l.94 2.06.94-2.06 2.06-.94-2.06-.94-.94-2.06-.94 2.06-2.06.94z\"/><path d=\"M17.41 7.96l-1.37-1.37c-.4-.4-.92-.59-1.43-.59-.52 0-1.04.2-1.43.59L10.3 9.45l-7.72 7.72c-.78.78-.78 2.05 0 2.83L4 21.41c.39.39.9.59 1.41.59.51 0 1.02-.2 1.41-.59l7.78-7.78 2.81-2.81c.8-.78.8-2.07 0-2.86zM5.41 20L4 18.59l7.72-7.72 1.47 1.35L5.41 20z\"/>\n",
              "  </svg>\n",
              "      </button>\n",
              "      \n",
              "  <style>\n",
              "    .colab-df-container {\n",
              "      display:flex;\n",
              "      flex-wrap:wrap;\n",
              "      gap: 12px;\n",
              "    }\n",
              "\n",
              "    .colab-df-convert {\n",
              "      background-color: #E8F0FE;\n",
              "      border: none;\n",
              "      border-radius: 50%;\n",
              "      cursor: pointer;\n",
              "      display: none;\n",
              "      fill: #1967D2;\n",
              "      height: 32px;\n",
              "      padding: 0 0 0 0;\n",
              "      width: 32px;\n",
              "    }\n",
              "\n",
              "    .colab-df-convert:hover {\n",
              "      background-color: #E2EBFA;\n",
              "      box-shadow: 0px 1px 2px rgba(60, 64, 67, 0.3), 0px 1px 3px 1px rgba(60, 64, 67, 0.15);\n",
              "      fill: #174EA6;\n",
              "    }\n",
              "\n",
              "    [theme=dark] .colab-df-convert {\n",
              "      background-color: #3B4455;\n",
              "      fill: #D2E3FC;\n",
              "    }\n",
              "\n",
              "    [theme=dark] .colab-df-convert:hover {\n",
              "      background-color: #434B5C;\n",
              "      box-shadow: 0px 1px 3px 1px rgba(0, 0, 0, 0.15);\n",
              "      filter: drop-shadow(0px 1px 2px rgba(0, 0, 0, 0.3));\n",
              "      fill: #FFFFFF;\n",
              "    }\n",
              "  </style>\n",
              "\n",
              "      <script>\n",
              "        const buttonEl =\n",
              "          document.querySelector('#df-dfafd4e3-1816-4ffb-af92-f5e3800a54e2 button.colab-df-convert');\n",
              "        buttonEl.style.display =\n",
              "          google.colab.kernel.accessAllowed ? 'block' : 'none';\n",
              "\n",
              "        async function convertToInteractive(key) {\n",
              "          const element = document.querySelector('#df-dfafd4e3-1816-4ffb-af92-f5e3800a54e2');\n",
              "          const dataTable =\n",
              "            await google.colab.kernel.invokeFunction('convertToInteractive',\n",
              "                                                     [key], {});\n",
              "          if (!dataTable) return;\n",
              "\n",
              "          const docLinkHtml = 'Like what you see? Visit the ' +\n",
              "            '<a target=\"_blank\" href=https://colab.research.google.com/notebooks/data_table.ipynb>data table notebook</a>'\n",
              "            + ' to learn more about interactive tables.';\n",
              "          element.innerHTML = '';\n",
              "          dataTable['output_type'] = 'display_data';\n",
              "          await google.colab.output.renderOutput(dataTable, element);\n",
              "          const docLink = document.createElement('div');\n",
              "          docLink.innerHTML = docLinkHtml;\n",
              "          element.appendChild(docLink);\n",
              "        }\n",
              "      </script>\n",
              "    </div>\n",
              "  </div>\n",
              "  "
            ]
          },
          "metadata": {},
          "execution_count": 16
        }
      ]
    },
    {
      "cell_type": "markdown",
      "source": [
        "# 3. TD IDF"
      ],
      "metadata": {
        "id": "1Vi5LW50L6aJ"
      }
    },
    {
      "cell_type": "code",
      "source": [
        "from sklearn.feature_extraction.text import TfidfVectorizer\n",
        "\n",
        "# mendefinisikan objek vectorizer \n",
        "vectorizer = TfidfVectorizer()\n",
        "\n",
        "# # Menghitung nilai TF-IDF dari Kolom Tweet\n",
        "vectorizer.fit(df['tweet'])\n",
        "\n",
        "# Mengubah Nilai dari tiap kata kolom Tweet menjadi Matriks TF-IDF\n",
        "tfidf_matrix = vectorizer.transform(df['tweet'])\n",
        "\n",
        "# Melihat 10 deret pertama \n",
        "print(\"First 10 feature names:\", vectorizer.get_feature_names_out()[:10])\n",
        "\n",
        "# Cetak Matriks TF-IDF\n",
        "print(\"All rows of the TF-IDF matrix:\")\n",
        "print(tfidf_matrix.toarray())"
      ],
      "metadata": {
        "colab": {
          "base_uri": "https://localhost:8080/"
        },
        "id": "2R50TIM-pxC9",
        "outputId": "b83af9e4-e509-4b2d-8838-b2eaa9e14f69"
      },
      "execution_count": null,
      "outputs": [
        {
          "output_type": "stream",
          "name": "stdout",
          "text": [
            "TF-IDF matrix shape: (2000, 9113)\n",
            "First 10 feature names: ['aa' 'aaa' 'aaaaaaa' 'aaaaak' 'aaah' 'aaahhhh' 'aaamiiinnn' 'aalamiin'\n",
            " 'aamiiin' 'aamiin']\n",
            "First row of the TF-IDF matrix:\n",
            " [[0. 0. 0. ... 0. 0. 0.]]\n"
          ]
        }
      ]
    },
    {
      "cell_type": "markdown",
      "source": [
        "# 4. Visualization"
      ],
      "metadata": {
        "id": "Q_simLLqMG2G"
      }
    },
    {
      "cell_type": "code",
      "source": [
        "from sklearn.decomposition import PCA\n",
        "import matplotlib.pyplot as plt\n",
        "\n",
        "# Reduksi dimensi menjadi dimensi yang diinginkan\n",
        "pca = PCA(n_components=2)\n",
        "tfidf_matrix_pca = pca.fit_transform(tfidf_matrix.toarray())\n",
        "\n",
        "# Membuat scatter plot menggunakan nilai dari komponen pertama (PC1) dan komponen kedua (PC2) yang didapatkan dari PCA.\n",
        "plt.scatter(tfidf_matrix_pca[:, 0], tfidf_matrix_pca[:, 1])\n",
        "\n",
        "# Label x dan Label y\n",
        "plt.title('PCA plot of TF-IDF matrix')\n",
        "plt.xlabel('PC1')\n",
        "plt.ylabel('PC2')\n",
        "\n",
        "#Menampilkan Plot\n",
        "plt.show()"
      ],
      "metadata": {
        "colab": {
          "base_uri": "https://localhost:8080/",
          "height": 472
        },
        "id": "4RE9nI6uqEPd",
        "outputId": "9c4cb007-5697-4bfb-ea24-f47175a2ab41"
      },
      "execution_count": null,
      "outputs": [
        {
          "output_type": "display_data",
          "data": {
            "text/plain": [
              "<Figure size 640x480 with 1 Axes>"
            ],
            "image/png": "[encoded data removed]"
          },
          "metadata": {}
        }
      ]
    },
    {
      "cell_type": "code",
      "source": [
        "import seaborn as sns\n",
        "import matplotlib.pyplot as plt\n",
        "\n",
        "# Membuat DataFrame dari TF-IDF matrix dan mengambil 1000 baris pertama\n",
        "tfidf_df = pd.DataFrame(tfidf_matrix.toarray(), columns=vectorizer.get_feature_names_out())\n",
        "tfidf_df = tfidf_df.iloc[:1000]\n",
        "\n",
        "# Membuat heatmap dari 1000 baris pertama dengan menggunakan library seaborn\n",
        "sns.heatmap(tfidf_df, cmap='coolwarm', xticklabels=False, yticklabels=False, annot=False)\n",
        "\n",
        "# Menambahkan judul pada plot\n",
        "plt.title('Heatmap of TF-IDF matrix')\n",
        "\n",
        "# Memberikan label pada sumbu x dan y\n",
        "plt.xlabel('Terms')\n",
        "plt.ylabel('Tweets')\n",
        "\n",
        "# Menampilkan plot\n",
        "plt.show()"
      ],
      "metadata": {
        "id": "plrfP_HmqaYe",
        "colab": {
          "base_uri": "https://localhost:8080/",
          "height": 448
        },
        "outputId": "4c5accd9-defb-4fc4-d35b-c26bd739005d"
      },
      "execution_count": null,
      "outputs": [
        {
          "output_type": "display_data",
          "data": {
            "text/plain": [
              "<Figure size 640x480 with 2 Axes>"
            ],
            "image/png": "[encoded data removed]"
          },
          "metadata": {}
        }
      ]
    },
    {
      "cell_type": "markdown",
      "source": [
        "# 5. Kmeans Algorithm"
      ],
      "metadata": {
        "id": "kZPhIyD-MOhs"
      }
    },
    {
      "cell_type": "code",
      "source": [
        "from sklearn.cluster import KMeans\n",
        "import pandas as pd\n",
        "\n",
        "# Read the preprocessed data\n",
        "df = pd.read_csv('preprocessed_dataset.csv')\n",
        "\n",
        "# Menginisialisasi objek KMeans dengan 5 cluster\n",
        "kmeans = KMeans(n_clusters=5)\n",
        "\n",
        "# Menggunakan metode KMeans untuk mengubah matriks TF-IDF dan memperoleh nilai cluster\n",
        "clusters = kmeans.fit_transform(tfidf_matrix)\n",
        "\n",
        "# Melatih model KMeans pada matriks TF-IDF\n",
        "kmeans.fit(tfidf_matrix)\n",
        "\n",
        "# Menambahkan label cluster ke DataFrame\n",
        "df['Cluster'] = kmeans.labels_\n",
        "\n",
        "# Print centroid dari masing-masing cluster.\n",
        "print(\"Centroids:\")\n",
        "for i, centroid in enumerate(kmeans.cluster_centers_):\n",
        "    print(f\"Cluster {i}: {centroid}\")\n",
        "\n",
        "# Mencetak jumlah tweet dalam setiap kluster.\n",
        "print(df['Cluster'].value_counts())\n",
        "\n",
        "# Mencetak tabel klaster tiap data\n",
        "print(df.groupby('Cluster').size())"
      ],
      "metadata": {
        "id": "Tpmh6ghqrTUq",
        "colab": {
          "base_uri": "https://localhost:8080/"
        },
        "outputId": "8fbf5614-1347-41f6-a90b-605d23c342c3"
      },
      "execution_count": null,
      "outputs": [
        {
          "output_type": "stream",
          "name": "stderr",
          "text": [
            "/usr/local/lib/python3.9/dist-packages/sklearn/cluster/_kmeans.py:870: FutureWarning: The default value of `n_init` will change from 10 to 'auto' in 1.4. Set the value of `n_init` explicitly to suppress the warning\n",
            "  warnings.warn(\n",
            "/usr/local/lib/python3.9/dist-packages/sklearn/cluster/_kmeans.py:870: FutureWarning: The default value of `n_init` will change from 10 to 'auto' in 1.4. Set the value of `n_init` explicitly to suppress the warning\n",
            "  warnings.warn(\n"
          ]
        },
        {
          "output_type": "stream",
          "name": "stdout",
          "text": [
            "Centroids:\n",
            "Cluster 0: [0. 0. 0. ... 0. 0. 0.]\n",
            "Cluster 1: [0.         0.         0.         ... 0.00274094 0.0022873  0.        ]\n",
            "Cluster 2: [0.         0.         0.         ... 0.         0.         0.00058907]\n",
            "Cluster 3: [0.         0.00043081 0.         ... 0.00061236 0.00119555 0.        ]\n",
            "Cluster 4: [0.00109193 0.         0.00029901 ... 0.         0.         0.        ]\n",
            "4    994\n",
            "3    489\n",
            "2    333\n",
            "1    114\n",
            "0     70\n",
            "Name: Cluster, dtype: int64\n",
            "Inertia: 1960.7467515919388\n"
          ]
        }
      ]
    },
    {
      "cell_type": "markdown",
      "source": [
        "# 6. Random Forest"
      ],
      "metadata": {
        "id": "dYoYjYPvMTc6"
      }
    },
    {
      "cell_type": "code",
      "source": [
        "from sklearn.model_selection import train_test_split\n",
        "from sklearn.ensemble import RandomForestClassifier\n",
        "from sklearn.metrics import accuracy_score, classification_report\n",
        "\n",
        "# Memisahkan dataset menjadi data latih dan data uji\n",
        "X_train, X_test, y_train, y_test = train_test_split(df['tweet'], df['label'], test_size=0.2, random_state=42)\n",
        "\n",
        "# Menampilkan jumlah data pada data latih dan data uji.\n",
        "print(\"Banyak data latih setelah dilakukan Train-Validation Split: \", len(X_train))\n",
        "print(\"Banyak data uji setelah dilakukan Train-Validation Split: \", len(X_test))\n",
        "\n",
        "\n",
        "vectorizer = TfidfVectorizer()\n",
        "X_train_tfidf = vectorizer.fit_transform(X_train)\n",
        "X_test_tfidf = vectorizer.transform(X_test)\n",
        "\n",
        "# Inisialisasi Random Forest classifier object\n",
        "rf = RandomForestClassifier(random_state=42)\n",
        "\n",
        "# Melatih model Random Forest pada data latih.\n",
        "rf.fit(X_train_tfidf, y_train)\n",
        "\n",
        "# Memprediksi label pada data uji.\n",
        "y_pred = rf.predict(X_test_tfidf)\n",
        "\n",
        "# Evaluasi performa model dengan menggunakan accuracy_score\n",
        "accuracy = accuracy_score(y_test, y_pred)\n",
        "print(\"Accuracy:\", accuracy)\n",
        "\n",
        "# Menampilkan classification report \n",
        "report = classification_report(y_test, y_pred)\n",
        "print(\"Classification report:\\n\", report)"
      ],
      "metadata": {
        "id": "Q_vOfK3hxDCs"
      },
      "execution_count": null,
      "outputs": []
    }
  ]
}